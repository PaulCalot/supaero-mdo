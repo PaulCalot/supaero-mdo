{
 "cells": [
  {
   "cell_type": "code",
   "execution_count": 4,
   "metadata": {},
   "outputs": [],
   "source": [
    "# Statistical Analysis\n",
    "# Programming: Selime Gurol (CERFACS), 2021\n",
    "\n",
    "import numpy as np\n",
    "from numpy import zeros, eye, exp\n",
    "from numpy.linalg import \\\n",
    "    (inv,# To invert a matrix\n",
    "    norm,# To compute the Euclidean norm\n",
    "    cholesky) # To compute Cholesky factorization\n",
    "from numpy.random import randn # To generate samples from a normalized Gaussian\n",
    "import matplotlib.pyplot as plt # To plot a grapH\n"
   ]
  },
  {
   "cell_type": "code",
   "execution_count": 31,
   "metadata": {},
   "outputs": [],
   "source": [
    "\n",
    "def statistical_analysis(sigma0=0.4, locations=(3,), btype='diagonal', sigmaB=0.8, correlation_length=1.0, plot=True):\n",
    "    ##%%%%%%%%%%%%%%%%%%%%%%%%%%%%%%%%%%%%%%%%%%%%%%%%%%%%%%%%%%%%%%%%%%%%%%%%%%%%%%%\n",
    "    #                          (1) Initialization\n",
    "    ##%%%%%%%%%%%%%%%%%%%%%%%%%%%%%%%%%%%%%%%%%%%%%%%%%%%%%%%%%%%%%%%%%%%%%%%%%%%%%%%\n",
    "    n  = 4  # state space dimension \n",
    "\n",
    "    # Observation operator\n",
    "    I = eye(n)\n",
    "    inds_obs = list(locations) # [3] # Location of the observations (1 dimensional grid)\n",
    "    H = I[inds_obs] # H as a selection operator - H is size m x n\n",
    "    m = len(inds_obs) # number of observations\n",
    "\n",
    "    # Observation errors\n",
    "    # R is a diagonal matrix\n",
    "    sigmaR = sigma0 # 0.4 # observation error std\n",
    "    R = zeros((m,m))\n",
    "    for ii in range(m):\n",
    "        R[ii,ii] = sigmaR*sigmaR \n",
    "\n",
    "    # Background errors\n",
    "    sigmaB = sigmaB # 0.8 # background error std\n",
    "    L = correlation_length # 1.0 # correlation length scale\n",
    "    btype = btype #'diagonal'\n",
    "    B = zeros((n,n))\n",
    "    if btype == 'diagonal':\n",
    "        # no correlation between the grid points\n",
    "        for ii in range(n):\n",
    "            B[ii,ii] = sigmaB*sigmaB  \n",
    "    if btype == 'soar':\n",
    "        # correlation between the grid points\n",
    "        for ii in range(n):\n",
    "            for jj in range(n):\n",
    "                rij = abs(jj-ii)\n",
    "                rho = (1 + rij/L)*exp(-rij/L)\n",
    "                B[ii,jj] = sigmaB*sigmaB*rho          \n",
    "    # B = B12 * B12^T\n",
    "    B12 = cholesky(B)\n",
    "    ##%%%%%%%%%%%%%%%%%%%%%%%%%%%%%%%%%%%%%%%%%%%%%%%%%%%%%%%%%%%%%%%%%%%%%%%%%%%%%%%\n",
    "    #                          (2) Generate the truth\n",
    "    ##%%%%%%%%%%%%%%%%%%%%%%%%%%%%%%%%%%%%%%%%%%%%%%%%%%%%%%%%%%%%%%%%%%%%%%%%%%%%%%%\n",
    "    xt = randn(n) # the true state\n",
    "\n",
    "    ##%%%%%%%%%%%%%%%%%%%%%%%%%%%%%%%%%%%%%%%%%%%%%%%%%%%%%%%%%%%%%%%%%%%%%%%%%%%%%%\n",
    "    #                          (3) Generate the background\n",
    "    ##%%%%%%%%%%%%%%%%%%%%%%%%%%%%%%%%%%%%%%%%%%%%%%%%%%%%%%%%%%%%%%%%%%%%%%%%%%%%%%%\n",
    "    xb = xt + np.einsum('ij,jm->im', B12, randn(n, m))\n",
    "\n",
    "    ##%%%%%%%%%%%%%%%%%%%%%%%%%%%%%%%%%%%%%%%%%%%%%%%%%%%%%%%%%%%%%%%%%%%%%%%%%%%%%%\n",
    "    #                          (4) Generate the observations\n",
    "    ##%%%%%%%%%%%%%%%%%%%%%%%%%%%%%%%%%%%%%%%%%%%%%%%%%%%%%%%%%%%%%%%%%%%%%%%%%%%%%%%\n",
    "    y = np.einsum('mn, n-> m', H, xt) + np.sqrt(R) * randn(1, m) # as long as R is diagonal\n",
    "\n",
    "    ##%%%%%%%%%%%%%%%%%%%%%%%%%%%%%%%%%%%%%%%%%%%%%%%%%%%%%%%%%%%%%%%%%%%%%%%%%%%%%%\n",
    "    #                          (5) Obtain analysis from BLUE\n",
    "    ##%%%%%%%%%%%%%%%%%%%%%%%%%%%%%%%%%%%%%%%%%%%%%%%%%%%%%%%%%%%%%%%%%%%%%%%%%%%%%%%\n",
    "    #Kalman Gain matrix\n",
    "    BGt = np.matmul(B, H.T)\n",
    "    K = np.matmul(BGt, inv(np.matmul(H, BGt) + R)) # TO DO\n",
    "    #BLUE analysis\n",
    "    xa = xb + K * (y - H * xb)\n",
    "\n",
    "    ##%%%%%%%%%%%%%%%%%%%%%%%%%%%%%%%%%%%%%%%%%%%%%%%%%%%%%%%%%%%%%%%%%%%%%%%%%%%%%%\n",
    "    #                          (5) Diagnostics\n",
    "    ##%%%%%%%%%%%%%%%%%%%%%%%%%%%%%%%%%%%%%%%%%%%%%%%%%%%%%%%%%%%%%%%%%%%%%%%%%%%%%%%\n",
    "    print('')\n",
    "    relative_err_xb = norm(xt - xb)/norm(xt)\n",
    "    relative_err_xa = norm(xt - xa)/norm(xt)\n",
    "    if(plot):\n",
    "        print('')\n",
    "        print('||xt - xb||_2 / ||xt||_2 = ', relative_err_xb)\n",
    "        print('||xt - xa||_2 / ||xt||_2 = ', relative_err_xa)\n",
    "        print('\\n')\n",
    "\n",
    "    # Analysis covariance matrix\n",
    "    Sinv = inv(B) + (H.T).dot(inv(R).dot(H))\n",
    "    S = inv(Sinv)\n",
    "    if(plot):\n",
    "        print('Analysis covariance matrix: \\n')\n",
    "    trace = []\n",
    "    for ii in range(n):\n",
    "        if(plot):\n",
    "            print('S[{}, {}]: {}'.format(ii, ii, S[ii,ii]))\n",
    "        trace.append(S[ii, ii])\n",
    "\n",
    "    ##%%%%%%%%%%%%%%%%%%%%%%%%%%%%%%%%%%%%%%%%%%%%%%%%%%%%%%%%%%%%%%%%%%%%%%%%%%%%%%\n",
    "    #                          (6) Plots\n",
    "    ##%%%%%%%%%%%%%%%%%%%%%%%%%%%%%%%%%%%%%%%%%%%%%%%%%%%%%%%%%%%%%%%%%%%%%%%%%%%%%%%\n",
    "    if(plot):\n",
    "        xrange = range(0,n)\n",
    "        fig, ax = plt.subplots()\n",
    "        ax.plot(xrange, xt, '+k', label='Truth')\n",
    "        ax.plot(xrange, xb, 'db', label='Background')\n",
    "        ax.plot(inds_obs, y, 'og', label='Observations')\n",
    "        ax.plot(xrange, xa, 'xr', label='Analysis')\n",
    "        leg = ax.legend()\n",
    "        plt.xlabel('x-coordinate')\n",
    "        plt.ylabel('Temperature')\n",
    "        plt.show()\n",
    "    return {\n",
    "        'relative_err_xb': relative_err_xb,\n",
    "        'relative_err_xa': relative_err_xa,\n",
    "        'covariance_mat_trace': trace,\n",
    "        'xt': xt,\n",
    "        'xb': xb,\n",
    "        'y': y,\n",
    "        'xa': xa,\n",
    "        'inds_obs': inds_obs\n",
    "    }"
   ]
  },
  {
   "cell_type": "code",
   "execution_count": 33,
   "metadata": {},
   "outputs": [
    {
     "name": "stdout",
     "output_type": "stream",
     "text": [
      "\n",
      "\n",
      "\n",
      "\n"
     ]
    }
   ],
   "source": [
    "# Q3.1 # soar , diagonal\n",
    "# Modify : locations, sigma0\n",
    "# since diagonal, should not change too much things since no background correlation between positions\n",
    "# having one observation only is useful for the given observation... (i.e. background = analysis)\n",
    "results_q31a = statistical_analysis(sigma0=0.4, locations=(3,), btype='diagonal', sigmaB=0.8, correlation_length=1.0, plot=False)\n",
    "results_q31b = statistical_analysis(sigma0=0.4, locations=(1,), btype='diagonal', sigmaB=0.8, correlation_length=1.0, plot=False)\n",
    "results_q31c = statistical_analysis(sigma0=0.1, locations=(3,), btype='diagonal', sigmaB=0.8, correlation_length=1.0, plot=False)\n",
    "results_q31d = statistical_analysis(sigma0=0.8, locations=(3,), btype='diagonal', sigmaB=0.8, correlation_length=1.0, plot=False)"
   ]
  },
  {
   "cell_type": "code",
   "execution_count": 34,
   "metadata": {},
   "outputs": [
    {
     "name": "stdout",
     "output_type": "stream",
     "text": [
      "\n",
      "\n"
     ]
    }
   ],
   "source": [
    "# Q3.2\n",
    "# We now see the observation obtained on one specific grid point being useful for other grid points\n",
    "results_q32a = statistical_analysis(sigma0=0.4, locations=(3,), btype='diagonal', sigmaB=0.8, correlation_length=1.0, plot=False)\n",
    "results_q32b = statistical_analysis(sigma0=0.4, locations=(3,), btype='soar', sigmaB=0.8, correlation_length=1.0, plot=False)\n"
   ]
  },
  {
   "cell_type": "code",
   "execution_count": 35,
   "metadata": {},
   "outputs": [
    {
     "name": "stdout",
     "output_type": "stream",
     "text": [
      "\n",
      "\n",
      "\n",
      "\n"
     ]
    }
   ],
   "source": [
    "# Q3.3\n",
    "results_q33a = statistical_analysis(sigma0=0.4, locations=(3,), btype='soar', sigmaB=0.8, correlation_length=1.0, plot=False)\n",
    "results_q33b = statistical_analysis(sigma0=0.4, locations=(3,), btype='soar', sigmaB=0.8, correlation_length=2.0, plot=False)\n",
    "results_q33c = statistical_analysis(sigma0=0.4, locations=(3,), btype='soar', sigmaB=0.8, correlation_length=0.5, plot=False)\n",
    "results_q33d = statistical_analysis(sigma0=0.4, locations=(3,), btype='soar', sigmaB=0.2, correlation_length=1.0, plot=False)\n"
   ]
  }
 ],
 "metadata": {
  "kernelspec": {
   "display_name": "sxs",
   "language": "python",
   "name": "python3"
  },
  "language_info": {
   "codemirror_mode": {
    "name": "ipython",
    "version": 3
   },
   "file_extension": ".py",
   "mimetype": "text/x-python",
   "name": "python",
   "nbconvert_exporter": "python",
   "pygments_lexer": "ipython3",
   "version": "3.9.13"
  },
  "orig_nbformat": 4,
  "vscode": {
   "interpreter": {
    "hash": "5311570e05b9321a7dbe027cf20238a1b0a4f628bb980dba08f0d99ff4c4f77b"
   }
  }
 },
 "nbformat": 4,
 "nbformat_minor": 2
}
