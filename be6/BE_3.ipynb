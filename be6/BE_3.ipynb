{
 "cells": [
  {
   "cell_type": "markdown",
   "metadata": {
    "colab_type": "text",
    "id": "gv0CIdQE3XXG"
   },
   "source": [
    "# Fiabilité et propagation d'incertitude"
   ]
  },
  {
   "cell_type": "markdown",
   "metadata": {
    "colab_type": "text",
    "id": "J1Oo6NYb3XXN"
   },
   "source": [
    "# 0) Import des bibliothèques Python"
   ]
  },
  {
   "cell_type": "code",
   "execution_count": 1,
   "metadata": {
    "colab": {
     "base_uri": "https://localhost:8080/",
     "height": 952
    },
    "colab_type": "code",
    "id": "mPll_tTZ3aJa",
    "outputId": "1ea14c8c-8de1-421f-bfb7-138b681c5577"
   },
   "outputs": [
    {
     "name": "stdout",
     "output_type": "stream",
     "text": [
      "Requirement already satisfied: openturns in d:\\bartoli\\anaconda3\\lib\\site-packages (1.20.post3)\n",
      "Requirement already satisfied: psutil in d:\\bartoli\\anaconda3\\lib\\site-packages (from openturns) (5.9.0)\n",
      "Requirement already satisfied: dill in d:\\bartoli\\anaconda3\\lib\\site-packages (from openturns) (0.3.4)\n",
      "Requirement already satisfied: SMT in d:\\bartoli\\anaconda3\\lib\\site-packages (1.3.0)\n",
      "Requirement already satisfied: scikit-learn in d:\\bartoli\\anaconda3\\lib\\site-packages (from SMT) (1.0.2)\n",
      "Requirement already satisfied: pyDOE2 in d:\\bartoli\\anaconda3\\lib\\site-packages (from SMT) (1.3.0)\n",
      "Requirement already satisfied: scipy in d:\\bartoli\\anaconda3\\lib\\site-packages (from SMT) (1.9.1)\n",
      "Requirement already satisfied: numpy in d:\\bartoli\\anaconda3\\lib\\site-packages (from pyDOE2->SMT) (1.23.0)\n",
      "Requirement already satisfied: joblib>=0.11 in d:\\bartoli\\anaconda3\\lib\\site-packages (from scikit-learn->SMT) (1.1.0)\n",
      "Requirement already satisfied: threadpoolctl>=2.0.0 in d:\\bartoli\\anaconda3\\lib\\site-packages (from scikit-learn->SMT) (3.1.0)\n"
     ]
    }
   ],
   "source": [
    "!pip install openturns \n",
    "!pip install SMT"
   ]
  },
  {
   "cell_type": "code",
   "execution_count": 2,
   "metadata": {
    "colab": {},
    "colab_type": "code",
    "id": "Wm8cloed3XXP"
   },
   "outputs": [],
   "source": [
    "import numpy as np\n",
    "import scipy as sci\n",
    "import openturns as ot\n",
    "import scipy.stats as stat\n",
    "import scipy.optimize as opt\n",
    "import time as t #utile pour mesurer le temps d'execution des fonctions\n",
    "import matplotlib.pyplot as plt\n",
    "from smt.surrogate_models import KRG\n",
    "%matplotlib inline"
   ]
  },
  {
   "cell_type": "markdown",
   "metadata": {
    "colab_type": "text",
    "id": "mmhOdm9E3XXY"
   },
   "source": [
    "# 1) Description du problème\n",
    "## 1-1) Introduction"
   ]
  },
  {
   "cell_type": "markdown",
   "metadata": {
    "colab_type": "text",
    "id": "o6kHWQFu3XXa"
   },
   "source": [
    "On souhaite étudier la fiabilité d'une passerelle soumise à un chargement réparti sur son tablier. Pour cela, la passerelle est modélisée par une poutre de longueur $L$, encastrée à son extrémité gauche et en appui simple à son extrémité droite, le chargement est noté $Q(l)$. La passerelle est de section rectangulaire de base $b$ et de hauteur $h$. Le module d'élasticité du matériau servant à la construction de la passerelle est $E$. La défaillance est caractérisée par un déplacement maximal autorisé noté $u_{max}$. \n",
    "\n",
    "La résolution de l'équation de la statique permettant de trouver le déplacement de la passerelle est effectuée par la méthode des éléments finis.\n"
   ]
  },
  {
   "cell_type": "markdown",
   "metadata": {
    "colab_type": "text",
    "id": "bZx0EOMA3XXc"
   },
   "source": [
    "## 1-2) Résolution par la méthode des éléments finis"
   ]
  },
  {
   "cell_type": "markdown",
   "metadata": {
    "colab_type": "text",
    "id": "Mo3HfHEl3XXe"
   },
   "source": [
    "Le nombre d'éléments est noté $n_{elem}$. On suppose que le chargement réparti est vertical et compte $n_{nodes}=n_{elem}+1$ composantes notées $Q_i,~i=1,\\cdots,n_{nodes}$. Le code suivant crée la fonction Python qui résout l'équation de la statique par la méthode des éléments finis et renvoie le déplacement max de la structure. Pour cela $n_{elem}$ éléments de poutre à 2 degrés de liberté par noeud sont utilisés."
   ]
  },
  {
   "cell_type": "code",
   "execution_count": 3,
   "metadata": {
    "colab": {},
    "colab_type": "code",
    "id": "py7wQJoo3XXg"
   },
   "outputs": [],
   "source": [
    "def u_structure(n_elem,L,E,I,Q):\n",
    "    \n",
    "        #matrice de rigidité totale\n",
    "        K = np.zeros((2*(n_elem+1),2*(n_elem+1)))\n",
    "        #Longeur des éléments\n",
    "        l = L/n_elem\n",
    "        #boucle sur les éléments\n",
    "        for i in range(n_elem):\n",
    "            #matrice élémentaire\n",
    "            K_elem = E*I/l**3*np.array([[12.0,6.0*l,-12.0,6.0*l],\\\n",
    "                                        [6.0*l,4.0*l**2,-6.0*l,2.0*l**2],\\\n",
    "                                       [-12.0,-6.0*l,12.0,-6.0*l],\\\n",
    "                                       [6*l,2.0*l**2,-6.0*l,4.0*l**2]])\n",
    "            #Assemblage\n",
    "            K[2*i:2*(i+1),2*i:2*(i+1)] = K[2*i:2*(i+1),2*i:2*(i+1)] + K_elem[0:2,0:2]\n",
    "            K[2*(i+1):2*(i+2),2*i:2*(i+1)] = K[2*(i+1):2*(i+2),2*i:2*(i+1)] + K_elem[2:4,0:2]\n",
    "            K[2*i:2*(i+1),2*(i+1):2*(i+2)] = K[2*i:2*(i+1),2*(i+1):2*(i+2)] + K_elem[0:2,2:4]\n",
    "            K[2*(i+1):2*(i+2),2*(i+1):2*(i+2)] = K[2*(i+1):2*(i+2),2*(i+1):2*(i+2)] + K_elem[2:4,2:4]\n",
    "            #conditions aux limites\n",
    "        #encastrement en l = 0\n",
    "        K[0:2,:] = 0.0\n",
    "        K[:,0:2] = 0.0\n",
    "        K[0,0] = 1.0\n",
    "        K[1,1] = 1.0\n",
    "        #appui simple en l = L\n",
    "        K[-2,:] = 0.0\n",
    "        K[:,-2] = 0.0\n",
    "        K[-2,-2] = 1.0\n",
    "        #Decomposition de Cholesky \n",
    "        K_fact = sci.linalg.cho_factor(K)\n",
    "        #Second membre\n",
    "        F = np.zeros((2*(n_elem+1),))\n",
    "        F[0:-1:2] = Q    \n",
    "        F[0:2] = 0.0\n",
    "        F[-2] = 0.0\n",
    "        #resolution du système KU = F\n",
    "        U = sci.linalg.cho_solve(K_fact,F)    \n",
    "        return U\n",
    "\n",
    "def interpolation_EF(X,U,L):\n",
    "    n_elem = len(U)/2-1\n",
    "    l = L/n_elem\n",
    "    U_X = np.zeros(X.shape)\n",
    "    i = 0\n",
    "    for x in X:\n",
    "        #on cherche à quel élément appartient x et quelle est sa position relative\n",
    "        n = np.int((x-1e-12)/l) #on se décale très légèrement sur la gauche \n",
    "        #pour ne pas avoir de problème en x=L qui donnerait n=en_elem +1 et qui poserait problème\n",
    "        s = (x-(n*l))/l\n",
    "        #On recupère U_i et U_j correspondant\n",
    "        u_i = U[2*n]\n",
    "        theta_i = U[2*n+1]\n",
    "        u_j = U[2*(n+1)]\n",
    "        theta_j = U[2*(n+1)+1]\n",
    "        u_x = u_i*(1.0-3.0*s**2+2.0*s**3)+u_j*(3.0*s**2-2.0*s**3)\\\n",
    "        +theta_i*(l*(s-2.0*s**2+s**3))+theta_j*(l*(-s**2+s**3))\n",
    "        U_X[i] = u_x\n",
    "        i = i+1   \n",
    "    return U_X    \n",
    "\n",
    "def find_max_dep(n_elem,L,E,I,Q):\n",
    "    #On commence par résoudre le problème discrétisé\n",
    "    U = u_structure(n_elem,L,E,I,Q)\n",
    "    #Puis on cherche le min du problème continu grace à la fonction d'interpolation\n",
    "    res_opt = opt.minimize(interpolation_EF,np.array([L/2.0]),method = \"SLSQP\", bounds=[[0.0,L]],args=(U,L),tol=1e-12)\n",
    "    u_max = res_opt['fun']\n",
    "    l_max = res_opt['x']\n",
    "    return l_max,u_max,U    "
   ]
  },
  {
   "cell_type": "markdown",
   "metadata": {
    "colab_type": "text",
    "id": "lqWmkfE63XXj"
   },
   "source": [
    "<div class=\"alert alert-danger \"><b>  Dans la suite on fixera $L=10.0$, $b=1.0$, $h=0.1$, $E =12e^9$, $Q_{total} = -3000$, $n_{elem}=50$ </b></div>"
   ]
  },
  {
   "cell_type": "markdown",
   "metadata": {
    "colab_type": "text",
    "id": "dTeS00J13XXy"
   },
   "source": [
    "# 2) Propagation d'incertitude et fiabilité\n",
    "\n",
    "On suppose à présent que les variables $b$ et $E$ sont aléatoires. L'objectif est de modéliser ces variables incertaines et de résoudre un problème de fiabilité par une méthode d'apprentissage actif. "
   ]
  },
  {
   "cell_type": "markdown",
   "metadata": {
    "colab_type": "text",
    "id": "zDDiY6F13XXz"
   },
   "source": [
    "## 2-1) Modèle probabiliste des variables $b$ et $E$"
   ]
  },
  {
   "cell_type": "markdown",
   "metadata": {
    "colab_type": "text",
    "id": "-BJNr6sF3XX0"
   },
   "source": [
    "Dans la suite on suppose que le code EF ci dessus donne la **valeur exacte** du déplacement maximal de la passerelle.\n",
    "Dans cet exercice nous allons considérer que les paramètres $E$ et $b$ sont des variables aléatoires indépendantes telles que :\n",
    "- $E$ suit une loi log-normale de moyenne $\\mu_E=12e9$ et de coefficient de variation $10\\%$ http://openturns.github.io/openturns/latest/user_manual/_generated/openturns.LogNormal.html?highlight=lognormal. \n",
    "\n",
    "Remarque : $X$ de loi log-normale, $\\mu_X= E[X]$, $\\sigma_X=\\sqrt{Var[X]}$, il existe une unique variable $Y$ de loi normale telle que $ln(X) = Y$ de moyenne $\\mu_Y=\\lambda_X$ et d'ecart type $\\sigma_Y=\\xi_X$ et nous avons\n",
    "$$\n",
    "\\lambda_X = ln\\left( \\frac{\\mu_X}{\\sqrt{1+(\\frac{\\sigma_X}{\\mu_X})^2}}\\right)\n",
    "$$\n",
    "$$\n",
    "\\xi_X = \\sqrt{ ln(1+(\\frac{\\sigma_X}{\\mu_X})^2)}\n",
    "$$\n",
    "\n",
    "- $b$ suit une loi uniforme sur $[0.9,1.1]$ http://openturns.github.io/openturns/latest/user_manual/_generated/openturns.Uniform.html?highlight=uniform\n",
    "\n",
    "\n"
   ]
  },
  {
   "cell_type": "markdown",
   "metadata": {
    "colab_type": "text",
    "id": "DJpevyBP3XX1"
   },
   "source": [
    "<p class=\"bg-primary\" style=\"padding:1em\"> Le code ci dessous crée le modèle probabiliste des variables $E$ et $b$.</p>"
   ]
  },
  {
   "cell_type": "code",
   "execution_count": 4,
   "metadata": {
    "colab": {
     "base_uri": "https://localhost:8080/",
     "height": 51
    },
    "colab_type": "code",
    "id": "jd1lY_ZC3XX2",
    "outputId": "4965ca07-7d5f-4e5e-9a43-4cb0962e1ac9"
   },
   "outputs": [
    {
     "name": "stdout",
     "output_type": "stream",
     "text": [
      "mu_E = 11999999999.999966 , cv_E= 0.10000000000000019\n",
      "mu_b= 1.0 , cv_b= 0.0577350269189626\n"
     ]
    }
   ],
   "source": [
    "mean_E = 12e9\n",
    "cv_E = 0.1\n",
    "Lambda_E = np.log(mean_E/(np.sqrt(1.+cv_E**2)))\n",
    "Xi_E = np.sqrt(np.log(1.+cv_E**2))\n",
    "Loi_E = ot.LogNormal(Lambda_E,Xi_E)\n",
    "print (\"mu_E =\",Loi_E.getMean()[0],\", cv_E=\", Loi_E.getStandardDeviation()[0]/Loi_E.getMean()[0])\n",
    "b_inf = 0.9\n",
    "b_sup = 1.1\n",
    "Loi_b = ot.Uniform(0.9,1.1)\n",
    "print (\"mu_b=\",Loi_b.getMean()[0],\", cv_b=\", Loi_b.getStandardDeviation()[0]/Loi_b.getMean()[0])\n",
    "input_distribution = ot.ComposedDistribution([Loi_E,Loi_b])"
   ]
  },
  {
   "cell_type": "markdown",
   "metadata": {
    "colab_type": "text",
    "id": "HpEHPuzaOdbb"
   },
   "source": [
    "## 2.2) Approximation par processus gaussien\n",
    "Dans cette partie nous allons utiliser l'approximation par processus gaussien pour créer une approximation de la fonction $U_{max}(E,b)$. Pour cela nous utiliserons la bibliothèque python SMT (https://smt.readthedocs.io/en/latest/). \n",
    "\n",
    "Afin de fixer les idées et d'apprendre à utliser la bibliothèque SMT nous commençons par l'approximation d'une fonction 1D, \n",
    "\n",
    "$$\n",
    "f(x) = \\frac{3}{2}x + \\sin(x\\pi)\n",
    "$$\n",
    "pour $x\\in[0,2]$\n"
   ]
  },
  {
   "cell_type": "markdown",
   "metadata": {
    "colab_type": "text",
    "id": "pPEy2e0XP_Tz"
   },
   "source": [
    "Le code ci-dessous crée la fonction étudiée et trace son graphe.  "
   ]
  },
  {
   "cell_type": "code",
   "execution_count": 5,
   "metadata": {
    "colab": {
     "base_uri": "https://localhost:8080/",
     "height": 286
    },
    "colab_type": "code",
    "id": "0XES5NPlObEl",
    "outputId": "3c037577-cdec-4c36-be37-26c7d79b80b8"
   },
   "outputs": [
    {
     "data": {
      "text/plain": [
       "[<matplotlib.lines.Line2D at 0x1aedb44a730>]"
      ]
     },
     "execution_count": 5,
     "metadata": {},
     "output_type": "execute_result"
    },
    {
     "data": {
      "image/png": "[encoded data removed]",
      "text/plain": [
       "<Figure size 640x480 with 1 Axes>"
      ]
     },
     "metadata": {},
     "output_type": "display_data"
    }
   ],
   "source": [
    "def f(x):\n",
    "  y = 1.5*x+np.sin(x*np.pi)\n",
    "  return y\n",
    "X = np.linspace(0,2,100)\n",
    "Y = f(X)\n",
    "plt.figure()\n",
    "plt.plot(X,Y)  "
   ]
  },
  {
   "cell_type": "markdown",
   "metadata": {
    "colab_type": "text",
    "id": "VPWNzFzUQPiK"
   },
   "source": [
    "On suppose que $X$ suit une loi uniforme sur [0,2], nous allons maintenant créer le plan d'expériences (DoE) permettant de créer l'approximation par processus gaussien. \n",
    "\n",
    "Pour cela 2 méthodes vont être employées :\n",
    "- le tirage aléatoire \n",
    "- et le tirage LHS (Latin Hypercube Sampling, http://openturns.github.io/openturns/latest/user_manual/_generated/openturns.LHSExperiment.html?highlight=lhsexperiment)\n",
    "\n",
    "<p class=\"bg-primary\" style=\"padding:1em\">**Question 1) : ** Compléter le code ci dessous afin de créer ces deux échantillons? Comparer les échantillons, qu'observez vous? (relancer plusieurs fois la création des échantillons)</p>  "
   ]
  },
  {
   "cell_type": "code",
   "execution_count": null,
   "metadata": {
    "colab": {
     "base_uri": "https://localhost:8080/",
     "height": 286
    },
    "colab_type": "code",
    "id": "BxsilEoAQ5jN",
    "outputId": "93bee2b4-bcb5-4d48-dcf9-94c1e3879909"
   },
   "outputs": [],
   "source": [
    "n_DoE = 4\n",
    "X = ot.Uniform(0,2)\n",
    "sample_X_random = X.#A compléter\n",
    "LHS = ot.LHSExperiment(#A compléter,#A compléter)\n",
    "sample_X_LHS = LHS.#A compléter\n",
    "plt.figure()\n",
    "plt.plot(sample_X_random,np.zeros(n_DoE),'r.',label='random')\n",
    "plt.plot(sample_X_LHS,np.zeros(n_DoE),'b.',label='LHS')\n",
    "plt.legend(loc=0)"
   ]
  },
  {
   "cell_type": "markdown",
   "metadata": {
    "colab_type": "text",
    "id": "DIDUgWC8Rno1"
   },
   "source": [
    "<p class=\"bg-primary\" style=\"padding:1em\">**Question 2) : ** Compléter le code suivant afin d'évaluer la fonction aux points du DoE et de construire l'approximation par PG en utilisant un prior de moyenne constante et de noyau de corrélation exponentielle carrée.  Pour cela on utilisera l'aide https://smt.readthedocs.io/en/latest/_src_docs/surrogate_models/krg.html.     \n",
    "Que fait la fonction train() ? </p>"
   ]
  },
  {
   "cell_type": "code",
   "execution_count": null,
   "metadata": {
    "colab": {
     "base_uri": "https://localhost:8080/",
     "height": 527
    },
    "colab_type": "code",
    "id": "TAf0lGq3SBhA",
    "outputId": "88086ebc-259e-42cd-fefe-a4d0c6c0ffef"
   },
   "outputs": [],
   "source": [
    "sample_Y_random = f(#A compléter)\n",
    "sample_Y_LHS = f (#A compléter)\n",
    "sm_random = KRG(poly = #A compléter, corr=#A compléter)   \n",
    "sm_random.set_training_values(np.array(sample_X_random),np.array(sample_Y_random))\n",
    "sm_random.train()\n",
    "sm_LHS = KRG(poly = #A compléter, corr=#A compléter)   \n",
    "sm_LHS.set_training_values(np.array(sample_X_LHS),np.array(sample_Y_LHS))\n",
    "sm_LHS.train()"
   ]
  },
  {
   "cell_type": "markdown",
   "metadata": {
    "colab_type": "text",
    "id": "VVezZW_ATx5W"
   },
   "source": [
    "<p class=\"bg-primary\" style=\"padding:1em\">**Question 3) : ** Compléter le code suivant afin de calculer la moyenne du processus gaussien et un intervalle de confiance à +/- 3 écart types sur le domaine [0,2] ?</p>"
   ]
  },
  {
   "cell_type": "code",
   "execution_count": null,
   "metadata": {
    "colab": {
     "base_uri": "https://localhost:8080/",
     "height": 1000
    },
    "colab_type": "code",
    "id": "b5UQh1CxTwDT",
    "outputId": "726f77be-d418-44b3-9d5e-aa1d173a418f"
   },
   "outputs": [],
   "source": [
    "X = np.linspace(0,2,100).reshape((100,1))\n",
    "mu_random = sm_random.#A compléter\n",
    "mu_LHS = sm_LHS.#A compléter\n",
    "variance_random =sm_random.#A compléter\n",
    "variance_LHS = sm_LHS.#A compléter\n",
    "plt.figure()\n",
    "plt.plot(X,Y,'b',label = 'ref')\n",
    "plt.plot(X,mu_random,'k',label = 'random sampling')\n",
    "plt.plot(X,mu_LHS,'r',label = 'LHS sampling')\n",
    "plt.legend(loc=0)\n",
    "plt.figure()\n",
    "plt.plot(X,Y,'b',label = 'ref')\n",
    "plt.plot(X,mu_random,'k',label = 'random sampling')\n",
    "plt.plot(X,mu_random+3.0*np.sqrt(variance_random),'k--')\n",
    "plt.plot(X,mu_random-3.0*np.sqrt(variance_random),'k--')\n",
    "plt.legend(loc=0)\n",
    "plt.figure()\n",
    "plt.plot(X,Y,'b',label = 'ref')\n",
    "plt.plot(X,mu_LHS,'r',label = 'LHS sampling')\n",
    "plt.plot(X,mu_LHS+3.0*np.sqrt(variance_LHS),'r--')\n",
    "plt.plot(X,mu_LHS-3.0*np.sqrt(variance_LHS),'r--')\n",
    "plt.legend(loc=0)"
   ]
  },
  {
   "cell_type": "markdown",
   "metadata": {
    "colab_type": "text",
    "id": "RQ7-Mw_jV8cX"
   },
   "source": [
    "On passe maintenant à l'approximation de la fonction $U_{max}(E,b)$ par processus gaussien. \n",
    "\n",
    "<p class=\"bg-primary\" style=\"padding:1em\">**Question 4) : ** Compléter le code suivant afin de créer un échantillon d'apprentissage pour la fonction $U_{max}(E,b)$ et créer le métamodèle par PG correspondant."
   ]
  },
  {
   "cell_type": "code",
   "execution_count": null,
   "metadata": {
    "colab": {},
    "colab_type": "code",
    "id": "BwLxme703XY3"
   },
   "outputs": [],
   "source": [
    "##génération d'échantillons\n",
    "n_sim = 12\n",
    "LHS = ot.LHSExperiment(#A compléter,#A compléter)\n",
    "sample_input = np.array(#A compléter)\n"
   ]
  },
  {
   "cell_type": "code",
   "execution_count": null,
   "metadata": {
    "colab": {
     "base_uri": "https://localhost:8080/",
     "height": 272
    },
    "colab_type": "code",
    "id": "-wBPMaggj47V",
    "outputId": "b5b516a2-563f-4396-cd25-1c695ca1f589"
   },
   "outputs": [],
   "source": [
    "#Vecteur U_max\n",
    "U_max = np.zeros((#A compléter,1))\n",
    "##Exécution du code EF pour chaque échantillon\n",
    "##paramètres\n",
    "n_elem = 50\n",
    "L = 10.0 #longueur en métre\n",
    "h = 0.1 #hauteur de la section en métre\n",
    "#Chargement : \n",
    "#Chargement total\n",
    "Q_total = -3000.0 #Newton\n",
    "#Le chargement est réparti uniformement sur les noeuds entre les 2 extremitées\n",
    "n_elem = 50\n",
    "n_nodes = n_elem+1\n",
    "Q_elem = Q_total/n_elem\n",
    "Q = np.ones((n_nodes,))*Q_elem\n",
    "for i in range(n_sim):\n",
    "    E = sample_input[i,0]\n",
    "    b = sample_input[i,1]\n",
    "    I = b*h**3/12.0\n",
    "    l_max,u_max,U = #A compléter\n",
    "    U_max[i] = u_max\n",
    "\n",
    "sm_LHS = KRG(poly = #A compléter, corr=#A compléter)   \n",
    "sm_LHS.set_training_values(#A compléter)\n",
    "sm_LHS.train()"
   ]
  },
  {
   "cell_type": "markdown",
   "metadata": {
    "colab_type": "text",
    "id": "SjCaOR-1dsiT"
   },
   "source": [
    "<p class=\"bg-primary\" style=\"padding:1em\">**Question 5) : ** Evaluer la moyenne du PG et tracer l'allure de l'approximation pour $E\\in[8e9,18e9]$ et $b\\in[0.9,1.1]$. Evaluer également sa variance et l'afficher. Tester avec un prior de moyenne linéaire ou quadratique et discuter de l'influence. Tester également l'influence du noyau.  \n"
   ]
  },
  {
   "cell_type": "code",
   "execution_count": null,
   "metadata": {
    "colab": {
     "base_uri": "https://localhost:8080/",
     "height": 731
    },
    "colab_type": "code",
    "id": "M5fP3h_UddMV",
    "outputId": "48ca5e66-48a9-4a3f-fd8b-f55138194b5b"
   },
   "outputs": [],
   "source": [
    "E_dis = np.linspace(#A compléter,#A compléter,100)\n",
    "b_dis = np.linspace(#A compléter,#A compléter,100)\n",
    "Grid = []\n",
    "for real_E in E_dis:\n",
    "  for real_b in b_dis:\n",
    "    Grid.append([#A compléter,#A compléter])\n",
    "mu = sm_LHS.#A compléter\n",
    "var = sm_LHS.#A compléter\n",
    "mu = mu.reshape((100,100)).T\n",
    "var = var.reshape((100,100)).T\n",
    "X1,X2 = np.meshgrid(E_dis,b_dis)\n",
    "from mpl_toolkits.mplot3d import Axes3D\n",
    "from matplotlib import cm\n",
    "\n",
    "fig = plt.figure()\n",
    "ax = fig.add_subplot(projection='3d')\n",
    "ax.plot_surface(X1,X2,mu,cmap =cm.coolwarm)\n",
    "\n",
    "fig = plt.figure()\n",
    "ax = fig.add_subplot(111)\n",
    "CF = ax.contourf(X1,X2,var)\n",
    "fig.colorbar(CF)\n",
    "plt.plot(sample_input[:,0],sample_input[:,1],'rs')"
   ]
  },
  {
   "cell_type": "markdown",
   "metadata": {
    "colab_type": "text",
    "id": "MHfe5XlziX0S"
   },
   "source": [
    "## 2.5) Estimation de fiabilité par échantillonnage adaptatif\n",
    "\n",
    "<p class=\"bg-primary\" style=\"padding:1em\">**Question 6) : ** Proposer et implémenter une méthode d'échantillonnage adaptatif (AK MCS ou une autre proposition). Tester votre approche sur le problème de fiabilité et conclure. Vous donnerez toutes les illustrations nécessaires à la compréhension de l'algorithme. "
   ]
  },
  {
   "cell_type": "code",
   "execution_count": null,
   "metadata": {
    "colab": {},
    "colab_type": "code",
    "id": "xD31bU-3fSFa"
   },
   "outputs": [],
   "source": [
    "def ma_methode(performance_function,rv_distribution,initial_MC_sample_size = None,initial_doe_size = None, iter_max = 100,cov_max = 0.05):\n",
    "    #A compléter\n",
    "    return Pf,cov,DoE,n_iter,sm"
   ]
  },
  {
   "cell_type": "code",
   "execution_count": null,
   "metadata": {
    "colab": {},
    "colab_type": "code",
    "id": "AvyuUKqiku9Z"
   },
   "outputs": [],
   "source": [
    "def  G(X):\n",
    "    d_seuil = 0.022\n",
    "    E = X[0]\n",
    "    b = X[1]\n",
    "    #définition des paramètres \n",
    "    I = b*h**3/12.\n",
    "    #Détermination de u_max\n",
    "    l_max,u_max,U = find_max_dep(n_elem,L,E,I,Q)\n",
    "    return d_seuil-abs(u_max)"
   ]
  },
  {
   "cell_type": "code",
   "execution_count": null,
   "metadata": {
    "colab": {
     "base_uri": "https://localhost:8080/",
     "height": 1000
    },
    "colab_type": "code",
    "id": "ZNFpsMJPk7bN",
    "outputId": "92360643-b003-424c-f2cb-702de6f8b3da"
   },
   "outputs": [],
   "source": [
    "Pf,cov,DoE,n_iter,sm = ma_methode(G,input_distribution,10**5,5)"
   ]
  },
  {
   "cell_type": "markdown",
   "metadata": {
    "colab": {},
    "colab_type": "code",
    "id": "eXq9gi5flFus"
   },
   "source": [
    "<p class=\"bg-primary\" style=\"padding:1em\">**Question 7) : ** Comme vu à la question 5, le problème de la passerelle est relativement simple. Afin de tester votre algorithme vous l'appliquerez à présent au problème \"4 branches\" définis ci-dessous."
   ]
  },
  {
   "cell_type": "code",
   "execution_count": null,
   "metadata": {},
   "outputs": [],
   "source": [
    "def g(x):\n",
    "    k = 6.0\n",
    "    Y1 = 3.0 + 0.1*(x[0]-x[1])**2-((x[0]+x[1])/np.sqrt(2.0))\n",
    "    Y2 = 3.0 + 0.1*(x[0]-x[1])**2+((x[0]+x[1])/np.sqrt(2.0))\n",
    "    Y3 = (x[0]-x[1])+k/np.sqrt(2.0)\n",
    "    Y4 = (x[1]-x[0])+k/np.sqrt(2.0)\n",
    "    return min(Y1,Y2,Y3,Y4)\n",
    "X = np.linspace(-8.0,8.0,300)\n",
    "res_tot = []\n",
    "for x1 in X:\n",
    "    res = []\n",
    "    for x2 in X:\n",
    "        x = np.array([x1,x2])\n",
    "        res.append(g(x))\n",
    "    res_tot.append(res)        \n",
    "\n",
    "res_tot = np.array(res_tot)\n",
    "X1,X2 = np.meshgrid(X,X)\n",
    "fig = plt.figure(figsize=(20,15))\n",
    "ax = fig.add_subplot(111)\n",
    "ax.set_xlabel(r'$u_1$',fontsize = 40)\n",
    "ax.set_ylabel (r'$u_2$',fontsize=40)\n",
    "ax.tick_params(labelsize=40)\n",
    "ax.contour(X1,X2,res_tot,levels = np.array([0.0]),colors = 'k',linewidths=5) \n",
    "cs = ax.contourf(X1,X2,res_tot)\n",
    "fig.colorbar(cs, ax=ax)"
   ]
  },
  {
   "cell_type": "code",
   "execution_count": null,
   "metadata": {},
   "outputs": [],
   "source": [
    "input_distribution = ot.Normal(2)\n",
    "Pf,cov,DoE,n_iter,sm = ma_methode(g,input_distribution,10**5,5)"
   ]
  },
  {
   "cell_type": "code",
   "execution_count": null,
   "metadata": {},
   "outputs": [],
   "source": [
    "print('Pf =', Pf)"
   ]
  },
  {
   "cell_type": "code",
   "execution_count": null,
   "metadata": {},
   "outputs": [],
   "source": []
  }
 ],
 "metadata": {
  "colab": {
   "collapsed_sections": [],
   "name": "BE_2_corrige.ipynb",
   "provenance": []
  },
  "kernelspec": {
   "display_name": "Python 3 (ipykernel)",
   "language": "python",
   "name": "python3"
  },
  "language_info": {
   "codemirror_mode": {
    "name": "ipython",
    "version": 3
   },
   "file_extension": ".py",
   "mimetype": "text/x-python",
   "name": "python",
   "nbconvert_exporter": "python",
   "pygments_lexer": "ipython3",
   "version": "3.9.13"
  }
 },
 "nbformat": 4,
 "nbformat_minor": 1
}
